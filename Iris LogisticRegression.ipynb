{
 "cells": [
  {
   "cell_type": "code",
   "execution_count": 16,
   "id": "29e731a0-40c4-42af-96e4-742c9dd64019",
   "metadata": {},
   "outputs": [],
   "source": [
    "import pandas as pd\n",
    "from sklearn.linear_model import LogisticRegression\n",
    "from sklearn.model_selection import train_test_split\n",
    "from sklearn.metrics import accuracy_score, classification_report"
   ]
  },
  {
   "cell_type": "code",
   "execution_count": 17,
   "id": "ee1a6ee6-9e36-4495-8625-405b6ed44244",
   "metadata": {},
   "outputs": [
    {
     "name": "stdout",
     "output_type": "stream",
     "text": [
      "     5.1  3.5  1.4  0.2     Iris-setosa\n",
      "0    4.9  3.0  1.4  0.2     Iris-setosa\n",
      "1    4.7  3.2  1.3  0.2     Iris-setosa\n",
      "2    4.6  3.1  1.5  0.2     Iris-setosa\n",
      "3    5.0  3.6  1.4  0.2     Iris-setosa\n",
      "4    5.4  3.9  1.7  0.4     Iris-setosa\n",
      "..   ...  ...  ...  ...             ...\n",
      "144  6.7  3.0  5.2  2.3  Iris-virginica\n",
      "145  6.3  2.5  5.0  1.9  Iris-virginica\n",
      "146  6.5  3.0  5.2  2.0  Iris-virginica\n",
      "147  6.2  3.4  5.4  2.3  Iris-virginica\n",
      "148  5.9  3.0  5.1  1.8  Iris-virginica\n",
      "\n",
      "[149 rows x 5 columns]\n",
      "5.1            0\n",
      "3.5            0\n",
      "1.4            0\n",
      "0.2            0\n",
      "Iris-setosa    0\n",
      "dtype: int64\n"
     ]
    }
   ],
   "source": [
    "df = pd.read_csv(\"iris.data\")\n",
    "print(df)\n",
    "print(df.isnull().sum())"
   ]
  },
  {
   "cell_type": "code",
   "execution_count": 22,
   "id": "b235aa85-9c5f-4486-b151-228c7fd356ab",
   "metadata": {},
   "outputs": [
    {
     "name": "stdout",
     "output_type": "stream",
     "text": [
      "Accuracy: 0.9111111111111111\n",
      "\n",
      "Classification Report:\n",
      "                  precision    recall  f1-score   support\n",
      "\n",
      "    Iris-setosa       1.00      1.00      1.00        19\n",
      "Iris-versicolor       0.91      0.77      0.83        13\n",
      " Iris-virginica       0.80      0.92      0.86        13\n",
      "\n",
      "       accuracy                           0.91        45\n",
      "      macro avg       0.90      0.90      0.90        45\n",
      "   weighted avg       0.92      0.91      0.91        45\n",
      "\n"
     ]
    }
   ],
   "source": [
    "y = df[\"Iris-setosa\"]\n",
    "X = df.drop(\"Iris-setosa\",axis=1)\n",
    "\n",
    "X_train,X_test,y_train,y_test = train_test_split(X,y,test_size=0.3,random_state = 42)\n",
    "\n",
    "model = LogisticRegression(max_iter = 100)\n",
    "\n",
    "model.fit(X_train,y_train)\n",
    "\n",
    "y_pred = model.predict(X_test)\n",
    "\n",
    "# Evaluate the model\n",
    "print(\"Accuracy:\", accuracy_score(y_test, y_pred))\n",
    "print(\"\\nClassification Report:\\n\", classification_report(y_test, y_pred))"
   ]
  },
  {
   "cell_type": "code",
   "execution_count": null,
   "id": "f90c26ab-c26c-4f3f-b718-a8617fe222b9",
   "metadata": {},
   "outputs": [],
   "source": []
  }
 ],
 "metadata": {
  "kernelspec": {
   "display_name": "Python(tf-gpu)",
   "language": "python",
   "name": "tf-gpu"
  },
  "language_info": {
   "codemirror_mode": {
    "name": "ipython",
    "version": 3
   },
   "file_extension": ".py",
   "mimetype": "text/x-python",
   "name": "python",
   "nbconvert_exporter": "python",
   "pygments_lexer": "ipython3",
   "version": "3.12.3"
  }
 },
 "nbformat": 4,
 "nbformat_minor": 5
}
